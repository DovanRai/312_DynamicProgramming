{
 "cells": [
  {
   "cell_type": "code",
   "execution_count": 6,
   "id": "610a17d0",
   "metadata": {},
   "outputs": [
    {
     "name": "stdout",
     "output_type": "stream",
     "text": [
      "Iteration#: 1 coin change for: 8\n",
      "Iteration#: 2 coin change for: 7\n",
      "Iteration#: 3 coin change for: 6\n",
      "Iteration#: 4 coin change for: 5\n",
      "Iteration#: 5 coin change for: 4\n",
      "Iteration#: 6 coin change for: 3\n",
      "Iteration#: 7 coin change for: 2\n",
      "Iteration#: 8 coin change for: 1\n",
      "Iteration#: 9 coin change for: -2\n",
      "Iteration#: 10 coin change for: 2\n",
      "Iteration#: 11 coin change for: -1\n",
      "Iteration#: 12 coin change for: 1\n",
      "Iteration#: 13 coin change for: 5\n",
      "Iteration#: 14 coin change for: 2\n",
      "Iteration#: 15 coin change for: 6\n",
      "Iteration#: 16 coin change for: 5\n",
      "Iteration#: 17 coin change for: 4\n",
      "Iteration#: 18 coin change for: 3\n",
      "Iteration#: 19 coin change for: 2\n",
      "Iteration#: 20 coin change for: 1\n",
      "Iteration#: 21 coin change for: -2\n",
      "Iteration#: 22 coin change for: 2\n",
      "Iteration#: 23 coin change for: -1\n",
      "Iteration#: 24 coin change for: 1\n",
      "Iteration#: 25 coin change for: 3\n",
      "Iteration#: 26 coin change for: 2\n",
      "Iteration#: 27 coin change for: 1\n",
      "Iteration#: 28 coin change for: -2\n",
      "We need  3 coins to make change for $ 8\n"
     ]
    }
   ],
   "source": [
    "coins=0\n",
    "iteration=0\n",
    "\n",
    "def coin_change(x):\n",
    "    \n",
    "    global iteration\n",
    "    global coins\n",
    "    \n",
    "    iteration=iteration+1\n",
    "    \n",
    "    print(\"Iteration#:\",iteration, \"coin change for:\", x)    \n",
    "    \n",
    "    if x>0:\n",
    "        if x==1 or x==2 or x==5:\n",
    "            coins=1           \n",
    "        \n",
    "        else:\n",
    "            coins=1+min(coin_change(x-1), coin_change(x-2), coin_change(x-5))           \n",
    "      \n",
    "            \n",
    "    return(coins)\n",
    "\n",
    "\n",
    "amount= 8\n",
    "number_of_coins=coin_change(amount)\n",
    "\n",
    "print(\"We need \", number_of_coins, \"coins to make change for $\", amount)\n",
    "    "
   ]
  },
  {
   "cell_type": "code",
   "execution_count": null,
   "id": "ab9bd448",
   "metadata": {},
   "outputs": [],
   "source": []
  }
 ],
 "metadata": {
  "kernelspec": {
   "display_name": "Python 3 (ipykernel)",
   "language": "python",
   "name": "python3"
  },
  "language_info": {
   "codemirror_mode": {
    "name": "ipython",
    "version": 3
   },
   "file_extension": ".py",
   "mimetype": "text/x-python",
   "name": "python",
   "nbconvert_exporter": "python",
   "pygments_lexer": "ipython3",
   "version": "3.9.13"
  }
 },
 "nbformat": 4,
 "nbformat_minor": 5
}
